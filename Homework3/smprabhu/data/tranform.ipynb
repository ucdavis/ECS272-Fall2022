{
 "cells": [
  {
   "cell_type": "code",
   "execution_count": 42,
   "metadata": {},
   "outputs": [],
   "source": [
    "import pandas as pd\n",
    "import numpy as np\n",
    "import random\n",
    "import csv\n"
   ]
  },
  {
   "cell_type": "code",
   "execution_count": 38,
   "metadata": {},
   "outputs": [],
   "source": [
    "df = pd.read_csv(\"pie.csv\")\n",
    "months = [\"Jan\", \"Feb\", \"Mar\", \"Apr\", \"May\", \"Jun\", \"Jul\", \"Aug\", \"Sep\", \"Oct\", \"Nov\", \"Dec\"]\n",
    "shuf = []\n"
   ]
  },
  {
   "cell_type": "code",
   "execution_count": 39,
   "metadata": {},
   "outputs": [],
   "source": [
    "regions = df['Region'].unique()"
   ]
  },
  {
   "cell_type": "code",
   "execution_count": 46,
   "metadata": {},
   "outputs": [],
   "source": [
    "for reg in regions:\n",
    "    headers = [\"date\",\" price\"]\n",
    "\n",
    "    with open(reg.replace(\" \", \"_\") + \".csv\", \"w\") as fp:\n",
    "        writer = csv.writer(fp)\n",
    "        writer.writerow(headers)\n",
    "\n",
    "        rdf = df[df['Region'] == reg]\n",
    "        random.shuffle(shuf)\n",
    "\n",
    "        for index, row in rdf.iterrows():\n",
    "            for k, v in enumerate(shuf):\n",
    "                writer.writerow([str(row['Year']) + \" \" + str(months[k]), str(v * row['Emissions Per Capita'])])\n",
    "    fp.close()"
   ]
  }
 ],
 "metadata": {
  "interpreter": {
   "hash": "aee8b7b246df8f9039afb4144a1f6fd8d2ca17a180786b69acc140d282b71a49"
  },
  "kernelspec": {
   "display_name": "Python 3.9.7 64-bit",
   "name": "python3"
  },
  "language_info": {
   "codemirror_mode": {
    "name": "ipython",
    "version": 3
   },
   "file_extension": ".py",
   "mimetype": "text/x-python",
   "name": "python",
   "nbconvert_exporter": "python",
   "pygments_lexer": "ipython3",
   "version": "3.9.7"
  },
  "orig_nbformat": 4,
  "vscode": {
   "interpreter": {
    "hash": "670b683b2221c0a479346774ca086b56e08a89b92d6b56c212d534af43a8621f"
   }
  }
 },
 "nbformat": 4,
 "nbformat_minor": 2
}
